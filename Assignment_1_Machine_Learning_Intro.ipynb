{
  "nbformat": 4,
  "nbformat_minor": 0,
  "metadata": {
    "colab": {
      "provenance": []
    },
    "kernelspec": {
      "name": "python3",
      "display_name": "Python 3"
    },
    "language_info": {
      "name": "python"
    }
  },
  "cells": [
    {
      "cell_type": "code",
      "execution_count": null,
      "metadata": {
        "id": "zMPbiPGmR3VI"
      },
      "outputs": [],
      "source": []
    },
    {
      "cell_type": "markdown",
      "source": [
        "Question 1: Explain the differences between AI, ML, Deep Learning (DL), and Data\n",
        "Science (DS).\n",
        "\n",
        "| Aspect         | **AI**                           | **ML**                             | **DL**                          | **DS**                        |\n",
        "| -------------- | -------------------------------- | ---------------------------------- | ------------------------------- | ----------------------------- |\n",
        "| **Scope**      | Broadest (machines acting smart) | Subset of AI                       | Subset of ML                    | Interdisciplinary field       |\n",
        "| **Focus**      | Intelligence & decision-making   | Learning from data                 | Neural networks & big data      | Extracting insights from data |\n",
        "| **Dependency** | May or may not use data          | Relies on data                     | Requires large datasets         | Uses data + domain knowledge  |\n",
        "| **Techniques** | Rule-based systems, ML, DL       | Algorithms (e.g., regression, SVM) | Deep neural networks (CNN, RNN) | Statistics, ML, visualization |\n",
        "| **Examples**   | Self-driving car                 | Spam filter                        | Face recognition                | Sales forecasting             |\n"
      ],
      "metadata": {
        "id": "2G50V4MbR8nH"
      }
    },
    {
      "cell_type": "markdown",
      "source": [
        "Question 2: What are the types of machine learning? Describe each with one\n",
        "real-world example.\n",
        "\n",
        "| Type of ML          | Data Used                    | Goal                           | Example               |\n",
        "| ------------------- | ---------------------------- | ------------------------------ | --------------------- |\n",
        "| **Supervised**      | Labeled data                 | Predict outcomes               | Email spam filter     |\n",
        "| **Unsupervised**    | Unlabeled data               | Find hidden patterns/groups    | Customer segmentation |\n",
        "| **Reinforcement**   | Interaction data             | Learn optimal actions (policy) | Self-driving car      |\n",
        "| **Semi-Supervised** | Few labeled + many unlabeled | Boost accuracy                 | Medical diagnosis     |\n"
      ],
      "metadata": {
        "id": "n3SAKqXxS_Ju"
      }
    },
    {
      "cell_type": "markdown",
      "source": [
        "Question 3: Define overfitting, underfitting, and the bias-variance tradeoff in machine\n",
        "learning.\n",
        "\n",
        "| Concept                    | What it means                                                | Cause                   | Effect                                    | Example                     |\n",
        "| -------------------------- | ------------------------------------------------------------ | ----------------------- | ----------------------------------------- | --------------------------- |\n",
        "| **Overfitting**            | Model learns noise, not general patterns                     | Too complex             | High training accuracy, low test accuracy | Student memorizes questions |\n",
        "| **Underfitting**           | Model too simple to learn patterns                           | Too simple              | Poor training & test accuracy             | Student studies too little  |\n",
        "| **Bias-Variance Tradeoff** | Balance between underfitting (bias) & overfitting (variance) | Model complexity choice | Best generalization                       | Archery analogy             |\n"
      ],
      "metadata": {
        "id": "S-OUKkNmTPR3"
      }
    },
    {
      "cell_type": "markdown",
      "source": [
        "What are outliers in a dataset, and list three common techniques for\n",
        "handling them.\n",
        "\n",
        "- Outliers in a Dataset\n",
        "Definition:\n",
        "\n",
        "- An outlier is a data point that significantly deviates from the rest of the observations in a dataset.\n",
        "\n",
        "- It may be unusually large or small compared to other values.\n",
        "\n",
        "- Outliers can occur due to measurement errors, data entry mistakes, or true rare events.\n",
        "\n",
        "  - Example: In a dataset of student ages (18, 19, 20, 21, 120), the value 120 is an outlier because it’s not realistic.\n",
        "\n",
        "  \n",
        "  #**Common Techniques for Handling Outliers**\n",
        "\n",
        "1. Removal (Deleting Outliers)\n",
        "\n",
        "**How**: Directly remove extreme values that are clearly errors.\n",
        "\n",
        "**When to use:**\n",
        "\n",
        "If the dataset is large.\n",
        "\n",
        "If the outliers are due to mistakes or irrelevant to analysis.\n",
        "\n",
        "**Example:** Removing an \"age = 200\" record from a customer dataset.\n",
        "\n",
        "2. Transformation (Scaling or Applying Functions)\n",
        "\n",
        "**How:** Apply transformations to reduce the effect of outliers.\n",
        "\n",
        "Log transformation, square root transformation, or normalization.\n",
        "\n",
        "**When to use:**\n",
        "\n",
        "If outliers are valid but their impact needs to be reduced.\n",
        "\n",
        "**Example:** Applying log transformation to income data (since a few billionaires can skew averages).\n",
        "\n",
        "\n",
        "3. Capping (Winsorization or Binning)\n",
        "\n",
        "**How:** Replace extreme values with a certain percentile value (e.g., 1st and 99th percentile).\n",
        "\n",
        "**When to use:**\n",
        "\n",
        "If you want to keep all records but reduce the influence of extreme values.\n",
        "\n",
        "**Example:** Capping salaries above the 99th percentile to the value at the 99th percentile."
      ],
      "metadata": {
        "id": "hiWvwJteTT6V"
      }
    },
    {
      "cell_type": "markdown",
      "source": [
        "Question 5: Explain the process of handling missing values and mention one\n",
        "imputation technique for numerical and one for categorical data.\n",
        "\n",
        "#**Process of Handling Missing Values**\n",
        "\n",
        "1. Identify Missing Data\n",
        "\n",
        "- Use tools like isnull() or info() in Python (Pandas).\n",
        "\n",
        "- Visualize with heatmaps or missingness plots.\n",
        "\n",
        "2. Analyze the Pattern of Missingness\n",
        "\n",
        " - MCAR (Missing Completely at Random): No pattern, purely random.\n",
        "\n",
        " - MAR (Missing at Random): Related to other features.\n",
        "\n",
        " - MNAR (Missing Not at Random): Related to the missing value itself.\n",
        "\n",
        "3. Decide on Strategy\n",
        "\n",
        "- Remove records: If missingness is very high or irrelevant.\n",
        "\n",
        " - Impute values: If data is useful, fill missing values with reasonable estimates.\n",
        "\n",
        "4. Apply Technique\n",
        "\n",
        " - Use appropriate imputation based on the type of data (numerical or categorical).\n",
        "\n",
        "\n",
        "#**Imputation Techniques**\n",
        "\n",
        "- For Numerical Data → Mean/Median Imputation\n",
        "\n",
        "**How:** Replace missing numerical values with the mean or median of that column.\n",
        "\n",
        "**When to use:**\n",
        "\n",
        "Mean → works well when data is normally distributed.\n",
        "\n",
        "Median → better when data has outliers or is skewed.\n",
        "\n",
        "**Example:** If a column “Age” has missing values, replace them with the median age of the dataset.\n",
        "\n",
        "#**For Categorical Data → Mode Imputation**\n",
        "\n",
        "**How:** Replace missing categorical values with the most frequent category (mode) in that column.\n",
        "\n",
        "**When to use:**\n",
        "\n",
        "When missingness is not too high.\n",
        "\n",
        "**Example:** If a column “Gender” has missing values, replace them with the most frequent value (“Male” or “Female”)."
      ],
      "metadata": {
        "id": "bmZyPM0YUaNz"
      }
    },
    {
      "cell_type": "markdown",
      "source": [
        "Question 6: Write a Python program that:\n",
        "● Creates a synthetic imbalanced dataset with make_classification() from\n",
        "sklearn.datasets.\n",
        "● Prints the class distribution.\n",
        "(Include your Python code and output in the code box below.)"
      ],
      "metadata": {
        "id": "0TSA2OYZV4Ot"
      }
    },
    {
      "cell_type": "code",
      "source": [
        "\n",
        "\n",
        "from sklearn.datasets import make_classification\n",
        "import numpy as np\n",
        "from collections import Counter\n",
        "\n",
        "# Step 1: Create synthetic imbalanced dataset\n",
        "X, y = make_classification(n_samples=1000,       # total samples\n",
        "                           n_features=10,        # number of features\n",
        "                           n_informative=2,      # informative features\n",
        "                           n_redundant=2,        # redundant features\n",
        "                           n_classes=2,          # binary classification\n",
        "                           weights=[0.9, 0.1],   # imbalance: 90% class 0, 10% class 1\n",
        "                           random_state=42)\n",
        "\n",
        "# Step 2: Print class distribution\n",
        "class_distribution = Counter(y)\n",
        "print(\"Class distribution:\", class_distribution)\n",
        "\n",
        "# Step 3: Make it percentage-wise\n",
        "total = len(y)\n",
        "for cls, count in class_distribution.items():\n",
        "    print(f\"Class {cls}: {count} samples ({(count/total)*100:.2f}%)\")\n"
      ],
      "metadata": {
        "colab": {
          "base_uri": "https://localhost:8080/"
        },
        "id": "Z9p1v2FJWIFi",
        "outputId": "2e9a7049-3dcc-48f4-ef7e-d93a5ea9a521"
      },
      "execution_count": 1,
      "outputs": [
        {
          "output_type": "stream",
          "name": "stdout",
          "text": [
            "Class distribution: Counter({np.int64(0): 897, np.int64(1): 103})\n",
            "Class 0: 897 samples (89.70%)\n",
            "Class 1: 103 samples (10.30%)\n"
          ]
        }
      ]
    },
    {
      "cell_type": "markdown",
      "source": [
        "Question 7: Implement one-hot encoding using pandas for the following list of colors:\n",
        "['Red', 'Green', 'Blue', 'Green', 'Red']. Print the resulting dataframe.\n",
        "(Include your Python code and output in the code box below.)"
      ],
      "metadata": {
        "id": "6a6MitVQWXoZ"
      }
    },
    {
      "cell_type": "code",
      "source": [
        "\n",
        "\n",
        "import pandas as pd\n",
        "\n",
        "# Step 1: Create the list of colors\n",
        "colors = ['Red', 'Green', 'Blue', 'Green', 'Red']\n",
        "\n",
        "# Step 2: Convert to DataFrame\n",
        "df = pd.DataFrame(colors, columns=['Color'])\n",
        "\n",
        "# Step 3: Apply one-hot encoding\n",
        "one_hot = pd.get_dummies(df['Color'])\n",
        "\n",
        "# Step 4: Combine original and encoded data\n",
        "result = pd.concat([df, one_hot], axis=1)\n",
        "\n",
        "# Print result\n",
        "print(result)\n"
      ],
      "metadata": {
        "colab": {
          "base_uri": "https://localhost:8080/"
        },
        "id": "P-MWbGRJWfl_",
        "outputId": "b08355f0-10c2-4c1a-e622-191580983c74"
      },
      "execution_count": 2,
      "outputs": [
        {
          "output_type": "stream",
          "name": "stdout",
          "text": [
            "   Color   Blue  Green    Red\n",
            "0    Red  False  False   True\n",
            "1  Green  False   True  False\n",
            "2   Blue   True  False  False\n",
            "3  Green  False   True  False\n",
            "4    Red  False  False   True\n"
          ]
        }
      ]
    },
    {
      "cell_type": "markdown",
      "source": [
        "Question 8: Write a Python script to:\n",
        "● Generate 1000 samples from a normal distribution.\n",
        "● Introduce 50 random missing values.\n",
        "● Fill missing values with the column mean.\n",
        "● Plot a histogram before and after imputation.\n",
        "(Include your Python code and output in the code box below.)"
      ],
      "metadata": {
        "id": "Pn9Q5ezDWs1W"
      }
    },
    {
      "cell_type": "code",
      "source": [
        "\n",
        "\n",
        "import numpy as np\n",
        "import pandas as pd\n",
        "import matplotlib.pyplot as plt\n",
        "\n",
        "# Step 1: Generate 1000 samples from a normal distribution\n",
        "np.random.seed(42)\n",
        "data = np.random.normal(loc=50, scale=10, size=1000)  # mean=50, std=10\n",
        "\n",
        "# Step 2: Introduce 50 random missing values\n",
        "missing_indices = np.random.choice(1000, 50, replace=False)\n",
        "data_with_nan = data.copy()\n",
        "data_with_nan[missing_indices] = np.nan\n",
        "\n",
        "# Step 3: Create a DataFrame\n",
        "df = pd.DataFrame(data_with_nan, columns=['Value'])\n",
        "\n",
        "# Step 4: Fill missing values with column mean\n",
        "mean_value = df['Value'].mean()\n",
        "df['Imputed'] = df['Value'].fillna(mean_value)\n",
        "\n",
        "# Step 5: Plot histogram before and after imputation\n",
        "plt.figure(figsize=(12, 5))\n",
        "\n",
        "# Histogram before imputation\n",
        "plt.subplot(1, 2, 1)\n",
        "plt.hist(df['Value'].dropna(), bins=30, edgecolor='black', alpha=0.7)\n",
        "plt.title(\"Before Imputation\")\n",
        "plt.xlabel(\"Value\")\n",
        "plt.ylabel(\"Frequency\")\n",
        "\n",
        "# Histogram after imputation\n",
        "plt.subplot(1, 2, 2)\n",
        "plt.hist(df['Imputed'], bins=30, edgecolor='black', alpha=0.7, color='orange')\n",
        "plt.title(\"After Imputation (Mean)\")\n",
        "plt.xlabel(\"Value\")\n",
        "plt.ylabel(\"Frequency\")\n",
        "\n",
        "plt.tight_layout()\n",
        "plt.show()\n",
        "\n",
        "# Print confirmation of imputation\n",
        "print(\"Number of missing values before imputation:\", df['Value'].isna().sum())\n",
        "print(\"Number of missing values after imputation:\", df['Imputed'].isna().sum())\n"
      ],
      "metadata": {
        "colab": {
          "base_uri": "https://localhost:8080/",
          "height": 542
        },
        "id": "QixrL0TkWx6L",
        "outputId": "ca5ff646-0ff4-4608-a222-5ef229adfa1a"
      },
      "execution_count": 3,
      "outputs": [
        {
          "output_type": "display_data",
          "data": {
            "text/plain": [
              "<Figure size 1200x500 with 2 Axes>"
            ],
            "image/png": "[encoded data removed]"
          },
          "metadata": {}
        },
        {
          "output_type": "stream",
          "name": "stdout",
          "text": [
            "Number of missing values before imputation: 50\n",
            "Number of missing values after imputation: 0\n"
          ]
        }
      ]
    },
    {
      "cell_type": "markdown",
      "source": [
        "Question 9: Implement Min-Max scaling on the following list of numbers [2, 5, 10, 15,\n",
        "20] using sklearn.preprocessing.MinMaxScaler. Print the scaled array.\n",
        "(Include your Python code and output in the code box below.)"
      ],
      "metadata": {
        "id": "zJlnxfcqXBS3"
      }
    },
    {
      "cell_type": "code",
      "source": [
        "\n",
        "\n",
        "from sklearn.preprocessing import MinMaxScaler\n",
        "import numpy as np\n",
        "\n",
        "# Step 1: Create the data\n",
        "data = np.array([2, 5, 10, 15, 20]).reshape(-1, 1)  # reshape for sklearn\n",
        "\n",
        "# Step 2: Initialize the scaler\n",
        "scaler = MinMaxScaler(feature_range=(0, 1))  # default range is [0,1]\n",
        "\n",
        "# Step 3: Fit and transform the data\n",
        "scaled_data = scaler.fit_transform(data)\n",
        "\n",
        "# Step 4: Print results\n",
        "print(\"Original Data:\\n\", data.flatten())\n",
        "print(\"Scaled Data:\\n\", scaled_data.flatten())\n"
      ],
      "metadata": {
        "colab": {
          "base_uri": "https://localhost:8080/"
        },
        "id": "j1CmqmNSXIPW",
        "outputId": "3911ac35-4608-40cb-b2b7-c7ad4d8327c0"
      },
      "execution_count": 4,
      "outputs": [
        {
          "output_type": "stream",
          "name": "stdout",
          "text": [
            "Original Data:\n",
            " [ 2  5 10 15 20]\n",
            "Scaled Data:\n",
            " [0.         0.16666667 0.44444444 0.72222222 1.        ]\n"
          ]
        }
      ]
    },
    {
      "cell_type": "markdown",
      "source": [
        "Question 10: You are working as a data scientist for a retail company. You receive a customer\n",
        "transaction dataset that contains:\n",
        "● Missing ages,\n",
        "● Outliers in transaction amount,\n",
        "● A highly imbalanced target (fraud vs. non-fraud),\n",
        "● Categorical variables like payment method.\n",
        "Explain the step-by-step data preparation plan you’d follow before training a machine learning\n",
        "model. Include how you’d address missing data, outliers, imbalance, and encoding.\n",
        "(Include your Python code and output in the code box below.)"
      ],
      "metadata": {
        "id": "ssouY2jMXL-q"
      }
    },
    {
      "cell_type": "markdown",
      "source": [
        "Sorry sir/mam i didn't get this quetion"
      ],
      "metadata": {
        "id": "VyxIU7YDZXrW"
      }
    }
  ]
}